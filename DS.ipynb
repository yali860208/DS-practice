{
 "cells": [
  {
   "cell_type": "code",
   "execution_count": 1,
   "id": "4dc3289f-a5e0-46c0-8b0c-46cc4bdaa6bc",
   "metadata": {},
   "outputs": [],
   "source": [
    "stock_prices = []\n",
    "with open('stock_prices.csv',\"r\") as f:\n",
    "    for line in f:\n",
    "        tokens = line.split(',')\n",
    "        day = tokens[0]\n",
    "        price = float(tokens[1])\n",
    "        stock_prices.append([day,price])"
   ]
  },
  {
   "cell_type": "code",
   "execution_count": 2,
   "id": "86cfa23d-35aa-465c-a643-f0a01cb91e63",
   "metadata": {},
   "outputs": [
    {
     "data": {
      "text/plain": [
       "[['march 6', 310.0],\n",
       " ['march 7', 340.0],\n",
       " ['march 8', 380.0],\n",
       " ['march 9', 302.0],\n",
       " ['march 10', 297.0],\n",
       " ['march 11', 323.0]]"
      ]
     },
     "execution_count": 2,
     "metadata": {},
     "output_type": "execute_result"
    }
   ],
   "source": [
    "stock_prices"
   ]
  },
  {
   "cell_type": "code",
   "execution_count": 3,
   "id": "e20547e8-afb1-4d71-94d3-5b8a2b2a28d5",
   "metadata": {},
   "outputs": [
    {
     "name": "stdout",
     "output_type": "stream",
     "text": [
      "302.0\n"
     ]
    }
   ],
   "source": [
    "# O(n) list, array\n",
    "for element in stock_prices:\n",
    "    if element[0] == 'march 9':\n",
    "        print(element[1])"
   ]
  },
  {
   "cell_type": "code",
   "execution_count": 4,
   "id": "22e8d77f-cb53-4c0c-aa37-25d512b07195",
   "metadata": {},
   "outputs": [],
   "source": [
    "stock_prices = {}\n",
    "with open('stock_prices.csv',\"r\") as f:\n",
    "    for line in f:\n",
    "        tokens = line.split(',')\n",
    "        day = tokens[0]\n",
    "        price = float(tokens[1])\n",
    "        stock_prices[day]=price"
   ]
  },
  {
   "cell_type": "code",
   "execution_count": 5,
   "id": "7fd33940-2a63-4630-b765-de001d83e69e",
   "metadata": {},
   "outputs": [
    {
     "data": {
      "text/plain": [
       "{'march 6': 310.0,\n",
       " 'march 7': 340.0,\n",
       " 'march 8': 380.0,\n",
       " 'march 9': 302.0,\n",
       " 'march 10': 297.0,\n",
       " 'march 11': 323.0}"
      ]
     },
     "execution_count": 5,
     "metadata": {},
     "output_type": "execute_result"
    }
   ],
   "source": [
    "stock_prices"
   ]
  },
  {
   "cell_type": "code",
   "execution_count": 6,
   "id": "260416b4-6c85-4be5-b616-bbee69af30c0",
   "metadata": {},
   "outputs": [
    {
     "data": {
      "text/plain": [
       "302.0"
      ]
     },
     "execution_count": 6,
     "metadata": {},
     "output_type": "execute_result"
    }
   ],
   "source": [
    "# O(1) dictionary, hash table\n",
    "stock_prices['march 9']"
   ]
  },
  {
   "cell_type": "markdown",
   "id": "264ce621-a3cc-49e7-8b83-2fd1fcf3c0a4",
   "metadata": {},
   "source": [
    "### get hash"
   ]
  },
  {
   "cell_type": "code",
   "execution_count": 7,
   "id": "69a56d14-1e08-4512-a62a-efa886dd80b0",
   "metadata": {},
   "outputs": [],
   "source": [
    "def get_hash(key):\n",
    "    h = 0\n",
    "    for char in key:\n",
    "        h += ord(char)\n",
    "    return h % 100         # assume the size of list is 100"
   ]
  },
  {
   "cell_type": "code",
   "execution_count": 11,
   "id": "86791057-152f-473a-afc0-a314d85de6a9",
   "metadata": {},
   "outputs": [
    {
     "data": {
      "text/plain": [
       "9"
      ]
     },
     "execution_count": 11,
     "metadata": {},
     "output_type": "execute_result"
    }
   ],
   "source": [
    "get_hash('march 6')"
   ]
  },
  {
   "cell_type": "markdown",
   "id": "274b35fe-8828-4b28-981e-32f4c7e7e91a",
   "metadata": {},
   "source": [
    "### Hash Table\n",
    "[更改 operator程式 ](https://docs.python.org/3/library/operator.html)\n",
    "- hash 位置已有資料時\n",
    "    1. Chaining : 用 linked list 接\n",
    "    2. Linear Probing : 找下一個空位"
   ]
  },
  {
   "cell_type": "code",
   "execution_count": 55,
   "id": "a31d1a4e-99d8-48bd-ba25-65141ec712d9",
   "metadata": {},
   "outputs": [],
   "source": [
    "class HashTable:\n",
    "    def __init__(self): # create the hash table\n",
    "        self.MAX = 10\n",
    "        self.arr = [[] for i in range(self.MAX)] # None for i 改成 [] for i 是因為要存 key\n",
    "        \n",
    "    def get_hash(self, key):\n",
    "        h = 0\n",
    "        for char in key:\n",
    "            h += ord(char)\n",
    "        return h % self.MAX\n",
    "    \n",
    "    def __setitem__(self, key, val):      # 加入 value 到 key 的 hash 所在位置\n",
    "        h = self.get_hash(key)\n",
    "#         1.若有值直接取代\n",
    "#         self.arr[h] = val\n",
    "#         2.chaining\n",
    "#         found = False\n",
    "#         for idx, element in enumerate(self.arr[h]):\n",
    "#             if len(element)==2 and element[0]==key: # 若位置非空，放在同一 hash 不同 index\n",
    "#                 self.arr[h][idx] = (key,val)\n",
    "#                 found=True\n",
    "#                 break\n",
    "#         if not found:\n",
    "#             self.arr[h].append((key, val))  # 直接存\n",
    "        for idx, element in enumerate(self.arr[h]):\n",
    "            if len(element)==2 and element[0]==key:\n",
    "                self.arr[h][idx]\n",
    "    def find_slot(self, key, index):\n",
    "        \n",
    "    \n",
    "    def __getitem__(self, key):          # 取得某 key 在 hash table 的 value\n",
    "        h = self.get_hash(key)\n",
    "        for element in self.arr[h]:\n",
    "            if element[0]==key:         # 只返回 value\n",
    "                return element[1]\n",
    "#         return self.arr[h]\n",
    "    \n",
    "    def __delitem__(self, key):\n",
    "        h = self.get_hash(key)\n",
    "#         self.arr[h] = None\n",
    "        for idx, element in enumerate(self.arr[h]):\n",
    "            if element[0] == key:\n",
    "                del self.arr[h][idx]"
   ]
  },
  {
   "cell_type": "code",
   "execution_count": 56,
   "id": "366bfce6-2f17-478f-a111-237a2b3eed44",
   "metadata": {},
   "outputs": [],
   "source": [
    "t = HashTable()"
   ]
  },
  {
   "cell_type": "code",
   "execution_count": 57,
   "id": "7b9f5a68-f03f-4e91-9227-0fdb71d6b76a",
   "metadata": {},
   "outputs": [],
   "source": [
    "t['march 6'] = 130\n",
    "t['march 1'] = 20\n",
    "t['march 17'] = 27"
   ]
  },
  {
   "cell_type": "code",
   "execution_count": 49,
   "id": "f59dfd07-0c95-4a9d-9bed-31d70ba47d45",
   "metadata": {},
   "outputs": [
    {
     "data": {
      "text/plain": [
       "[('march 6', 130), ('march 17', 27)]"
      ]
     },
     "execution_count": 49,
     "metadata": {},
     "output_type": "execute_result"
    }
   ],
   "source": [
    "t['march 6']"
   ]
  },
  {
   "cell_type": "code",
   "execution_count": 54,
   "id": "f87f2cd0-7435-4805-a3ac-9d8ea2038c44",
   "metadata": {},
   "outputs": [
    {
     "data": {
      "text/plain": [
       "130"
      ]
     },
     "execution_count": 54,
     "metadata": {},
     "output_type": "execute_result"
    }
   ],
   "source": [
    "t['march 6']"
   ]
  },
  {
   "cell_type": "code",
   "execution_count": 36,
   "id": "89b5a308-4c45-4d42-a936-7ea7deb4f166",
   "metadata": {},
   "outputs": [],
   "source": [
    "del t['march 6']"
   ]
  },
  {
   "cell_type": "code",
   "execution_count": 50,
   "id": "3b83e13e-9a47-4623-b2f0-83019af4e4b3",
   "metadata": {
    "scrolled": true,
    "tags": []
   },
   "outputs": [
    {
     "data": {
      "text/plain": [
       "[[],\n",
       " [],\n",
       " [],\n",
       " [],\n",
       " [('march 1', 20)],\n",
       " [],\n",
       " [],\n",
       " [],\n",
       " [],\n",
       " [('march 6', 130), ('march 17', 27)]]"
      ]
     },
     "execution_count": 50,
     "metadata": {},
     "output_type": "execute_result"
    }
   ],
   "source": [
    "t.arr"
   ]
  },
  {
   "cell_type": "code",
   "execution_count": 58,
   "id": "5598d07d-810a-4c7d-9700-2e4a74a65c99",
   "metadata": {},
   "outputs": [],
   "source": [
    "del t['march 6']"
   ]
  },
  {
   "cell_type": "code",
   "execution_count": 59,
   "id": "913223fe-f928-41e9-89b7-a24f707d9b59",
   "metadata": {},
   "outputs": [
    {
     "data": {
      "text/plain": [
       "[[], [], [], [], [('march 1', 20)], [], [], [], [], [('march 17', 27)]]"
      ]
     },
     "execution_count": 59,
     "metadata": {},
     "output_type": "execute_result"
    }
   ],
   "source": [
    "t.arr"
   ]
  },
  {
   "cell_type": "code",
   "execution_count": null,
   "id": "b2e9093f-3a7f-4de6-b545-ab42bd89e64e",
   "metadata": {},
   "outputs": [],
   "source": []
  },
  {
   "cell_type": "markdown",
   "id": "caddbe42-ebd2-48f6-81ea-9bd61e8ef0ce",
   "metadata": {},
   "source": [
    "### Stack"
   ]
  },
  {
   "cell_type": "code",
   "execution_count": 62,
   "id": "54f62530-579a-49a0-9ac7-32cbe41e951b",
   "metadata": {},
   "outputs": [],
   "source": [
    "def reverse_string(st):\n",
    "    stack = []\n",
    "    result_st = \"\"\n",
    "    for i in st:\n",
    "        stack.append(i)\n",
    "    for i in range(len(stack)):\n",
    "        result_st += stack.pop()\n",
    "    return result_st"
   ]
  },
  {
   "cell_type": "code",
   "execution_count": 63,
   "id": "813696dc-88a5-4f87-8974-0da433bbec97",
   "metadata": {},
   "outputs": [
    {
     "data": {
      "text/plain": [
       "'91-DIVOC ereuqnoc lliw eW'"
      ]
     },
     "execution_count": 63,
     "metadata": {},
     "output_type": "execute_result"
    }
   ],
   "source": [
    "reverse_string(\"We will conquere COVID-19\")"
   ]
  },
  {
   "cell_type": "code",
   "execution_count": 93,
   "id": "e740e887-31d3-46b1-ba4f-b2318afc038a",
   "metadata": {},
   "outputs": [],
   "source": [
    "def is_balanced(st):\n",
    "    stack = []\n",
    "    test = []\n",
    "    for i in st:\n",
    "        if i in ['{','}','(',')','[',']']:\n",
    "            stack.append(i)\n",
    "    for i in range(len(stack)//2):\n",
    "        a = stack.pop()\n",
    "        a = a.replace('{','}')\n",
    "        a = a.replace('}','{')\n",
    "        a = a.replace('(',')')\n",
    "        a = a.replace(')','(')\n",
    "        a = a.replace('[',']')\n",
    "        a = a.replace(']','[')\n",
    "        test.append(a)\n",
    "    if test == stack:\n",
    "        return True\n",
    "    else:\n",
    "        return False"
   ]
  },
  {
   "cell_type": "code",
   "execution_count": 95,
   "id": "1ead89d3-93c2-4063-9724-d9b5837e89ee",
   "metadata": {},
   "outputs": [
    {
     "name": "stdout",
     "output_type": "stream",
     "text": [
      "[')', ')', '('] ['{', '{', '(']\n"
     ]
    },
    {
     "data": {
      "text/plain": [
       "False"
      ]
     },
     "execution_count": 95,
     "metadata": {},
     "output_type": "execute_result"
    }
   ],
   "source": [
    "is_balanced(\"))((a+b}{\")"
   ]
  },
  {
   "cell_type": "markdown",
   "id": "2b7817d0-d835-4bf2-b934-b2db91e2a9ca",
   "metadata": {},
   "source": [
    "### [Queue](https://github.com/codebasics/data-structures-algorithms-python/blob/master/data_structures/6_Queue/6_queue_exercise.md)"
   ]
  },
  {
   "cell_type": "code",
   "execution_count": 143,
   "id": "4e7f14fb-64c6-4d09-a0b0-195ab0466de5",
   "metadata": {},
   "outputs": [],
   "source": [
    "from collections import deque\n",
    "import time\n",
    "import threading\n",
    "class Queue:\n",
    "    def __init__(self):\n",
    "        self.buffer = deque()\n",
    "    \n",
    "    def enqueue(self,val):\n",
    "        self.buffer.appendleft(val)\n",
    "        \n",
    "    def dequeue(self):\n",
    "        return self.buffer.pop()\n",
    "    \n",
    "    def is_empty(self):\n",
    "        return len(self.buffer) == 0\n",
    "    \n",
    "    def size(self):\n",
    "        return len(self.buffer)\n",
    "    \n",
    "    def place_order(self, orders):\n",
    "        for item in orders:\n",
    "            print(\"Placing order for:\",item)\n",
    "            self.enqueue(item)\n",
    "            time.sleep(0.5)\n",
    "    \n",
    "    def serve_order(self):\n",
    "        time.sleep(1)\n",
    "        while len(self.buffer) != 0:\n",
    "            item = self.dequeue()\n",
    "            print(\"Now serving: \",item)\n",
    "            time.sleep(0.5)\n",
    "            \n",
    "    def binary(self):\n",
    "        while len(self.buffer)<= 10:\n",
    "            a = self.dequeue()\n",
    "            a0 = int(str(a)+str(0))\n",
    "            a1 = int(str(a)+str(1))\n",
    "            print(a0)\n",
    "            print(a1)\n",
    "            self.enqueue(a0)\n",
    "            self.enqueue(a1)"
   ]
  },
  {
   "cell_type": "code",
   "execution_count": 138,
   "id": "dedf2dd6-d8ab-4f90-b7a0-3e259e8ed640",
   "metadata": {},
   "outputs": [
    {
     "name": "stdout",
     "output_type": "stream",
     "text": [
      "Placing order for: pizza\n",
      "Placing order for: samosa\n",
      "Placing order for: pasta\n",
      "Placing order for: biryani\n",
      "Placing order for: burger\n",
      "Now serving:  pizza\n",
      "Now serving:  samosa\n",
      "Now serving:  pasta\n",
      "Now serving:  biryani\n",
      "Now serving:  burger\n",
      "6.112387180328369\n"
     ]
    }
   ],
   "source": [
    "orders = ['pizza','samosa','pasta','biryani','burger']\n",
    "\n",
    "order = Queue()\n",
    "t = time.time()\n",
    "\n",
    "order.place_order(orders)\n",
    "order.serve_order()\n",
    "print(time.time()-t)"
   ]
  },
  {
   "cell_type": "code",
   "execution_count": 139,
   "id": "ea188508-e222-409c-9ef2-c65e3fbde1d6",
   "metadata": {},
   "outputs": [
    {
     "name": "stdout",
     "output_type": "stream",
     "text": [
      "Placing order for: pizza\n",
      "Placing order for: samosa\n",
      "Now serving:  pizza\n",
      "Placing order for: pasta\n",
      "Now serving:  samosa\n",
      "Placing order for: biryani\n",
      "Now serving:  pasta\n",
      "Placing order for: burger\n",
      "Now serving:  biryani\n",
      "Now serving:  burger\n",
      "Placing order for: pizza\n",
      "Placing order for: samosa\n",
      "Placing order for: pasta\n",
      "Placing order for: biryani\n",
      "Placing order for: burger\n",
      "Now serving:  pizza\n",
      "Now serving:  samosa\n",
      "Now serving:  pasta\n",
      "Now serving:  biryani\n",
      "Now serving:  burger\n",
      "9.704432725906372\n"
     ]
    }
   ],
   "source": [
    "orders = ['pizza','samosa','pasta','biryani','burger']\n",
    "\n",
    "order = Queue()\n",
    "t = time.time()\n",
    "t1 = threading.Thread(target=order.place_order, args=(orders,))\n",
    "t2 = threading.Thread(target=order.serve_order)\n",
    "t1.start()\n",
    "t2.start()\n",
    "\n",
    "t1.join()\n",
    "t2.join()\n",
    "\n",
    "order.place_order(orders)\n",
    "order.serve_order()\n",
    "print(time.time()-t)"
   ]
  },
  {
   "cell_type": "code",
   "execution_count": 144,
   "id": "2a7783bc-f864-40bc-b777-3e8c49998243",
   "metadata": {},
   "outputs": [
    {
     "name": "stdout",
     "output_type": "stream",
     "text": [
      "10\n",
      "11\n",
      "100\n",
      "101\n",
      "110\n",
      "111\n",
      "1000\n",
      "1001\n",
      "1010\n",
      "1011\n",
      "1100\n",
      "1101\n",
      "1110\n",
      "1111\n",
      "10000\n",
      "10001\n",
      "10010\n",
      "10011\n",
      "10100\n",
      "10101\n"
     ]
    }
   ],
   "source": [
    "bina = Queue()\n",
    "bina.enqueue(1)\n",
    "bina.binary()"
   ]
  },
  {
   "cell_type": "markdown",
   "id": "04eba4ac-c46e-48d7-aba5-53efd81ed660",
   "metadata": {},
   "source": [
    "### [Tree](https://github.com/codebasics/data-structures-algorithms-python/blob/master/data_structures/7_Tree/7_tree_exercise.md) : 跟解答不一樣"
   ]
  },
  {
   "cell_type": "code",
   "execution_count": 196,
   "id": "53e27eb4-c66f-441f-9df3-89e9ab2ac249",
   "metadata": {},
   "outputs": [],
   "source": [
    "class TreeNode:\n",
    "    def __init__(self, data):\n",
    "        self.data = data\n",
    "        self.children = []\n",
    "        self.parent = None\n",
    "    \n",
    "    def add_child(self, child):\n",
    "        child.parent = self\n",
    "        self.children.append(child)\n",
    "        \n",
    "    def get_level(self):     # 算有多少個 parent\n",
    "        level = 0\n",
    "        p = self.parent\n",
    "        while p:\n",
    "            level += 1\n",
    "            p = p.parent\n",
    "        return level\n",
    "        \n",
    "    def print_tree(self, condition='both'):\n",
    "        prefix = '  '*self.get_level()\n",
    "        if self.parent:\n",
    "            prefix += \"|__\"\n",
    "        if condition == \"name\":\n",
    "            be_idx = self.data.find('(')+1\n",
    "            af_idx = self.data.find(')')\n",
    "            print(prefix + self.data[be_idx:af_idx])\n",
    "        elif condition == \"designation\":\n",
    "            be_idx = self.data.find(' (')\n",
    "            print(prefix + self.data[:be_idx])\n",
    "        elif condition == \"both\":\n",
    "            print(prefix + self.data[:])\n",
    "        else:\n",
    "            print(\"無此條件\")\n",
    "        if self.children:\n",
    "            for child in self.children:\n",
    "                child.print_tree(condition)"
   ]
  },
  {
   "cell_type": "code",
   "execution_count": 169,
   "id": "292cb3ca-b75f-4b68-b95e-99ba2a08723f",
   "metadata": {},
   "outputs": [],
   "source": [
    "def build_product_tree():\n",
    "    root = TreeNode(\"Electronics\")\n",
    "\n",
    "    laptop = TreeNode(\"Laptop\")\n",
    "    laptop.add_child(TreeNode(\"Mac\"))\n",
    "    laptop.add_child(TreeNode(\"Surface\"))\n",
    "    laptop.add_child(TreeNode(\"Thinkpad\"))\n",
    "\n",
    "    cellphone = TreeNode(\"Cell Phone\")\n",
    "    cellphone.add_child(TreeNode(\"iPhone\"))\n",
    "    cellphone.add_child(TreeNode(\"Google Pixel\"))\n",
    "    cellphone.add_child(TreeNode(\"Vivo\"))\n",
    "\n",
    "    tv = TreeNode(\"TV\")\n",
    "    tv.add_child(TreeNode(\"Samsung\"))\n",
    "    tv.add_child(TreeNode(\"LG\"))\n",
    "\n",
    "    root.add_child(laptop)\n",
    "    root.add_child(cellphone)\n",
    "    root.add_child(tv)\n",
    "    \n",
    "    root.print_tree()\n"
   ]
  },
  {
   "cell_type": "code",
   "execution_count": 170,
   "id": "350ba8e0-d7b2-4932-8fa7-f5ed0bd6b690",
   "metadata": {},
   "outputs": [
    {
     "name": "stdout",
     "output_type": "stream",
     "text": [
      "Electronics\n",
      "  |_Laptop\n",
      "    |_Mac\n",
      "    |_Surface\n",
      "    |_Thinkpad\n",
      "  |_Cell Phone\n",
      "    |_iPhone\n",
      "    |_Google Pixel\n",
      "    |_Vivo\n",
      "  |_TV\n",
      "    |_Samsung\n",
      "    |_LG\n"
     ]
    }
   ],
   "source": [
    "build_product_tree()"
   ]
  },
  {
   "cell_type": "code",
   "execution_count": 147,
   "id": "5bfbafe6-1524-443f-ba92-f87f7433afac",
   "metadata": {},
   "outputs": [],
   "source": [
    "tr = TreeNode(20)"
   ]
  },
  {
   "cell_type": "code",
   "execution_count": 148,
   "id": "1188c01e-7d28-42bb-9fc8-726050ffdbd0",
   "metadata": {},
   "outputs": [
    {
     "ename": "AttributeError",
     "evalue": "'int' object has no attribute 'parent'",
     "output_type": "error",
     "traceback": [
      "\u001b[1;31m---------------------------------------------------------------------------\u001b[0m",
      "\u001b[1;31mAttributeError\u001b[0m                            Traceback (most recent call last)",
      "\u001b[1;32m<ipython-input-148-15015fa6ee7c>\u001b[0m in \u001b[0;36m<module>\u001b[1;34m\u001b[0m\n\u001b[1;32m----> 1\u001b[1;33m \u001b[0mtr\u001b[0m\u001b[1;33m.\u001b[0m\u001b[0madd_child\u001b[0m\u001b[1;33m(\u001b[0m\u001b[1;36m23\u001b[0m\u001b[1;33m)\u001b[0m\u001b[1;33m\u001b[0m\u001b[1;33m\u001b[0m\u001b[0m\n\u001b[0m",
      "\u001b[1;32m<ipython-input-146-425f93c97156>\u001b[0m in \u001b[0;36madd_child\u001b[1;34m(self, child)\u001b[0m\n\u001b[0;32m      6\u001b[0m \u001b[1;33m\u001b[0m\u001b[0m\n\u001b[0;32m      7\u001b[0m     \u001b[1;32mdef\u001b[0m \u001b[0madd_child\u001b[0m\u001b[1;33m(\u001b[0m\u001b[0mself\u001b[0m\u001b[1;33m,\u001b[0m \u001b[0mchild\u001b[0m\u001b[1;33m)\u001b[0m\u001b[1;33m:\u001b[0m\u001b[1;33m\u001b[0m\u001b[1;33m\u001b[0m\u001b[0m\n\u001b[1;32m----> 8\u001b[1;33m         \u001b[0mchild\u001b[0m\u001b[1;33m.\u001b[0m\u001b[0mparent\u001b[0m \u001b[1;33m=\u001b[0m \u001b[0mself\u001b[0m\u001b[1;33m\u001b[0m\u001b[1;33m\u001b[0m\u001b[0m\n\u001b[0m\u001b[0;32m      9\u001b[0m         \u001b[0mself\u001b[0m\u001b[1;33m.\u001b[0m\u001b[0mchildren\u001b[0m\u001b[1;33m.\u001b[0m\u001b[0mappend\u001b[0m\u001b[1;33m(\u001b[0m\u001b[0mchild\u001b[0m\u001b[1;33m)\u001b[0m\u001b[1;33m\u001b[0m\u001b[1;33m\u001b[0m\u001b[0m\n\u001b[0;32m     10\u001b[0m         \u001b[0mprint\u001b[0m\u001b[1;33m(\u001b[0m\u001b[0mself\u001b[0m\u001b[1;33m.\u001b[0m\u001b[0mdata\u001b[0m\u001b[1;33m)\u001b[0m\u001b[1;33m\u001b[0m\u001b[1;33m\u001b[0m\u001b[0m\n",
      "\u001b[1;31mAttributeError\u001b[0m: 'int' object has no attribute 'parent'"
     ]
    }
   ],
   "source": [
    "tr.add_child(23)"
   ]
  },
  {
   "cell_type": "code",
   "execution_count": 199,
   "id": "caa0bc66-3a84-4ea9-aa9d-7dd840d238e3",
   "metadata": {},
   "outputs": [],
   "source": [
    "def build_management_tree(condition='both'):\n",
    "    nilupul = TreeNode(\"Nilupul (CEO)\")\n",
    "    \n",
    "    chinmay = TreeNode(\"Chinmay (CTO)\")\n",
    "    vishwa = TreeNode(\"Vishwa (Infrastructure Head)\")\n",
    "    vishwa.add_child(TreeNode(\"Dhaval (Cloud Manager)\"))\n",
    "    vishwa.add_child(TreeNode(\"Abhijit (App Manager)\"))\n",
    "    aamir = TreeNode(\"Aamir (Application Head)\")\n",
    "    chinmay.add_child(vishwa)\n",
    "    chinmay.add_child(aamir)\n",
    "    \n",
    "    gels = TreeNode(\"Gels (HR Head)\")\n",
    "    gels.add_child(TreeNode(\"Peter (Recruitment Manager)\"))\n",
    "    gels.add_child(TreeNode(\"Waqas (Policy Manager)\"))\n",
    "    \n",
    "    nilupul.add_child(chinmay)\n",
    "    nilupul.add_child(gels)\n",
    "    nilupul.print_tree(condition)"
   ]
  },
  {
   "cell_type": "code",
   "execution_count": 203,
   "id": "6c9b3b38-7f35-4ec5-a656-fd6d9f7d3466",
   "metadata": {},
   "outputs": [
    {
     "name": "stdout",
     "output_type": "stream",
     "text": [
      "Nilupul\n",
      "  |__Chinmay\n",
      "    |__Vishwa\n",
      "      |__Dhaval\n",
      "      |__Abhijit\n",
      "    |__Aamir\n",
      "  |__Gels\n",
      "    |__Peter\n",
      "    |__Waqas\n"
     ]
    }
   ],
   "source": [
    "build_management_tree('designation')"
   ]
  },
  {
   "cell_type": "markdown",
   "id": "6173fa15-0363-4f09-a102-78c00867985e",
   "metadata": {},
   "source": [
    "### Binary Tree\n",
    "1. [inorder, preorder, postorder](https://github.com/codebasics/data-structures-algorithms-python/blob/master/data_structures/8_Binary_Tree_1/8_binary_tree_part_1_exercise.md)\n",
    "2. [delete](https://github.com/codebasics/data-structures-algorithms-python/blob/master/data_structures/9_Binary_Tree_2/9_binary_tree_part_2_exercise.md)"
   ]
  },
  {
   "cell_type": "code",
   "execution_count": 274,
   "id": "02970e47-e005-4b1f-a836-70c3352adf8d",
   "metadata": {},
   "outputs": [],
   "source": [
    "class BinarySearchTreeNode:\n",
    "    def __init__(self, data):\n",
    "        self.data = data\n",
    "        self.left = None\n",
    "        self.right = None\n",
    "    \n",
    "    def add_child(self, data):\n",
    "        if data == self.data:\n",
    "            return\n",
    "        \n",
    "        if data < self.data:\n",
    "            if self.left:\n",
    "                self.left.add_child(data)\n",
    "            else:\n",
    "                self.left = BinarySearchTreeNode(data)\n",
    "        else:\n",
    "            if self.right:\n",
    "                self.right.add_child(data)\n",
    "            else:\n",
    "                self.right = BinarySearchTreeNode(data)\n",
    "                \n",
    "    def in_order_traversal(self):\n",
    "        elements = []\n",
    "        if self.left:\n",
    "            elements += self.left.in_order_traversal()\n",
    "        elements.append(self.data)\n",
    "        if self.right:\n",
    "            elements += self.right.in_order_traversal()\n",
    "        return elements\n",
    "    \n",
    "    def post_order_traversal(self):\n",
    "        elements = []\n",
    "        if self.left:\n",
    "            elements += self.left.post_order_traversal()\n",
    "        if self.right:\n",
    "            elements += self.right.post_order_traversal()\n",
    "        elements.append(self.data)\n",
    "        \n",
    "        return elements\n",
    "    \n",
    "    def pre_order_traversal(self):\n",
    "        elements = []\n",
    "        elements.append(self.data)\n",
    "        if self.left:\n",
    "            elements += self.left.pre_order_traversal()\n",
    "        if self.right:\n",
    "            elements += self.right.pre_order_traversal()\n",
    "        \n",
    "        return elements\n",
    "        \n",
    "    \n",
    "    def search(self, val):\n",
    "        if self.data == val:\n",
    "            return True\n",
    "        if val < self.data:\n",
    "            if self.left:\n",
    "                return self.left.search(val)\n",
    "            else:\n",
    "                return False\n",
    "        if val > self.data:\n",
    "            if self.right:\n",
    "                return self.right.search(val)\n",
    "            else:\n",
    "                return False\n",
    "            \n",
    "    def find_min(self):\n",
    "        if self.left:\n",
    "            return self.left.find_min()\n",
    "        else:\n",
    "            return self.data\n",
    "        \n",
    "    def find_max(self):\n",
    "        if self.right:\n",
    "            return self.right.find_max()\n",
    "        else:\n",
    "            return self.data\n",
    "        \n",
    "    def calculate_sum(self):\n",
    "        return sum(self.inorder_traversal())\n",
    "    \n",
    "    def delete(self, val):\n",
    "        if val < self.data:\n",
    "            if self.left:\n",
    "                self.left = self.left.delete(val)\n",
    "        elif val > self.data:\n",
    "            if self.right:\n",
    "                self.right = self.right.delete(val)\n",
    "        else:\n",
    "            if self.left is None and self.right is None:\n",
    "                return None\n",
    "            if self.left is None:\n",
    "                return self.right\n",
    "            if self.right is None:\n",
    "                return self.left\n",
    "            \n",
    "#             max_val = self.left.find_max()\n",
    "            self.data = self.right.find_min()\n",
    "            self.right = self.right.delete(min_val)\n",
    "        return self"
   ]
  },
  {
   "cell_type": "code",
   "execution_count": 222,
   "id": "8b8bef97-a043-4c9f-badd-a477c5b131b5",
   "metadata": {},
   "outputs": [],
   "source": [
    "def build_tree(elements):\n",
    "    root = BinarySearchTreeNode(elements[0])\n",
    "    for i in elements[1:]:\n",
    "        root.add_child(i)\n",
    "    return root"
   ]
  },
  {
   "cell_type": "code",
   "execution_count": 234,
   "id": "64a57518-fa5f-4ea5-9751-2a57c1cdf1f8",
   "metadata": {},
   "outputs": [
    {
     "data": {
      "text/plain": [
       "[8, 28, 34]"
      ]
     },
     "execution_count": 234,
     "metadata": {},
     "output_type": "execute_result"
    }
   ],
   "source": [
    "a = BinarySearchTreeNode(28)\n",
    "a.add_child(8)\n",
    "a.add_child(34)\n",
    "\n",
    "a.inorder_traversal()"
   ]
  },
  {
   "cell_type": "code",
   "execution_count": 275,
   "id": "d984456f-520e-410c-b74c-4f2f9db9cc7b",
   "metadata": {},
   "outputs": [
    {
     "name": "stdout",
     "output_type": "stream",
     "text": [
      "[1, 4, 9, 17, 20, 23, 34]\n",
      "in order :  [1, 4, 9, 17, 20, 23, 34]\n",
      "post order :  [1, 9, 4, 34, 23, 20, 17]\n",
      "pre order :  [17, 4, 1, 9, 20, 23, 34]\n"
     ]
    }
   ],
   "source": [
    "numbers = [17, 4, 1, 20, 9, 23, 34]\n",
    "numbers_tree = build_tree(numbers)\n",
    "print(numbers_tree.in_order_traversal())\n",
    "print('in order : ' ,numbers_tree.in_order_traversal())\n",
    "print('post order : ' ,numbers_tree.post_order_traversal())\n",
    "print('pre order : ' ,numbers_tree.pre_order_traversal())"
   ]
  },
  {
   "cell_type": "code",
   "execution_count": 258,
   "id": "651f1116-3cbb-4ba1-9f23-4d34e6387d26",
   "metadata": {},
   "outputs": [
    {
     "name": "stdout",
     "output_type": "stream",
     "text": [
      "True\n"
     ]
    }
   ],
   "source": [
    "print(numbers_tree.search(9))"
   ]
  },
  {
   "cell_type": "code",
   "execution_count": 259,
   "id": "32f5d49e-0221-4011-b27e-ad4ce74e2cce",
   "metadata": {},
   "outputs": [
    {
     "name": "stdout",
     "output_type": "stream",
     "text": [
      "1\n"
     ]
    }
   ],
   "source": [
    "print(numbers_tree.find_min())"
   ]
  },
  {
   "cell_type": "code",
   "execution_count": 260,
   "id": "f4a5aab4-803a-480b-a63a-26ee23177c72",
   "metadata": {},
   "outputs": [
    {
     "name": "stdout",
     "output_type": "stream",
     "text": [
      "108\n"
     ]
    }
   ],
   "source": [
    "print(numbers_tree.calculate_sum())"
   ]
  },
  {
   "cell_type": "code",
   "execution_count": 280,
   "id": "ff823116-c0c9-4798-a359-d11b0a9958ae",
   "metadata": {},
   "outputs": [
    {
     "data": {
      "text/plain": [
       "<__main__.BinarySearchTreeNode at 0x210bb763490>"
      ]
     },
     "execution_count": 280,
     "metadata": {},
     "output_type": "execute_result"
    }
   ],
   "source": [
    "numbers_tree.delete(9)"
   ]
  },
  {
   "cell_type": "code",
   "execution_count": 281,
   "id": "4810aa16-bab5-48ae-88e0-5b901d80a447",
   "metadata": {},
   "outputs": [
    {
     "name": "stdout",
     "output_type": "stream",
     "text": [
      "in order :  [1, 4, 17, 23, 34]\n"
     ]
    }
   ],
   "source": [
    "print('in order : ' ,numbers_tree.in_order_traversal())"
   ]
  },
  {
   "cell_type": "markdown",
   "id": "25ecc42e-ba99-444c-999b-c15b727663fe",
   "metadata": {},
   "source": [
    "### [Graph](https://www.youtube.com/watch?v=j0IYCyBdzfA&list=PLeo1K3hjS3uu_n_a__MI_KktGTLYopZ12&index=12&ab_channel=codebasics)"
   ]
  },
  {
   "cell_type": "code",
   "execution_count": 288,
   "id": "4c4930c2-d429-4957-9d76-614f38b3ead0",
   "metadata": {},
   "outputs": [],
   "source": [
    "class Graph:\n",
    "    def __init__(self, edges):\n",
    "        self.edges = edges\n",
    "        self.graph_dict = {}\n",
    "        for start, end in self.edges:\n",
    "            if start in self.graph_dict:\n",
    "                self.graph_dict[start].append(end)\n",
    "            else:\n",
    "                self.graph_dict[start] = [end]\n",
    "        print(\"Graph dict\", self.graph_dict)\n",
    "        \n",
    "    def get_paths(self, start, end, path=[]):\n",
    "        path = path + [start]\n",
    "        \n",
    "        if start == end:\n",
    "            return [path]\n",
    "        if start not in self.graph_dict:\n",
    "            return []\n",
    "        paths = []\n",
    "        for node in self.graph_dict[start]:\n",
    "            if node not in path:\n",
    "                new_paths = self.get_paths(node, end, path)\n",
    "                for p in new_paths:\n",
    "                    paths.append(p)\n",
    "        return paths\n",
    "    \n",
    "    def get_shortest_path(self, start, end, path=[]):\n",
    "        path = path + [start]\n",
    "\n",
    "        if start == end:\n",
    "            return path\n",
    "        if start not in self.graph_dict:\n",
    "            return None\n",
    "        shortest_path = None\n",
    "        for node in self.graph_dict[start]:\n",
    "            if node not in path:\n",
    "                sp = self.get_shortest_path(node, end, path)\n",
    "                if sp:\n",
    "                    if shortest_path is None or len(sp) < len(shortest_path):\n",
    "                        shortest_path = sp\n",
    "        return shortest_path\n",
    "         \n",
    "        "
   ]
  },
  {
   "cell_type": "code",
   "execution_count": 287,
   "id": "bab0c411-700f-4135-a9ac-fb5d64546cf8",
   "metadata": {},
   "outputs": [],
   "source": []
  },
  {
   "cell_type": "code",
   "execution_count": 290,
   "id": "711ca1d6-4a3a-4811-b262-cce0affd951f",
   "metadata": {},
   "outputs": [
    {
     "name": "stdout",
     "output_type": "stream",
     "text": [
      "Graph dict {'Mumbai': ['Paris', 'Dubai'], 'Paris': ['Dubai', 'New York'], 'Dubai': ['New York'], 'New York': ['Toronto']}\n"
     ]
    }
   ],
   "source": [
    "routes = [\n",
    "        (\"Mumbai\", \"Paris\"),\n",
    "        (\"Mumbai\", \"Dubai\"),\n",
    "        (\"Paris\", \"Dubai\"),\n",
    "        (\"Paris\", \"New York\"),\n",
    "        (\"Dubai\", \"New York\"),\n",
    "        (\"New York\", \"Toronto\"),\n",
    "    ]\n",
    "flight = Graph(routes)"
   ]
  },
  {
   "cell_type": "code",
   "execution_count": 293,
   "id": "d0b6f9fa-9677-4962-a9ea-410d3112a846",
   "metadata": {},
   "outputs": [
    {
     "name": "stdout",
     "output_type": "stream",
     "text": [
      "[['Paris', 'Dubai', 'New York'], ['Paris', 'New York']]\n"
     ]
    }
   ],
   "source": [
    "start = \"Paris\"\n",
    "end = \"New York\"\n",
    "print(flight.get_paths(start,end))"
   ]
  },
  {
   "cell_type": "code",
   "execution_count": 294,
   "id": "3fcc2c75-d6e2-4d83-bd5c-61263b623111",
   "metadata": {},
   "outputs": [
    {
     "name": "stdout",
     "output_type": "stream",
     "text": [
      "['Paris', 'New York']\n"
     ]
    }
   ],
   "source": [
    "print(flight.get_shortest_path(start,end))"
   ]
  },
  {
   "cell_type": "markdown",
   "id": "cc933671-98c6-4eff-93a3-7f62250e6a31",
   "metadata": {},
   "source": [
    "### [Binary Search](https://github.com/codebasics/data-structures-algorithms-python/blob/master/algorithms/1_BinarySearch/binary_search_exercise.md)"
   ]
  },
  {
   "cell_type": "code",
   "execution_count": 1,
   "id": "6fc76d1f-2e31-4325-84c9-50a999920948",
   "metadata": {},
   "outputs": [],
   "source": [
    "import time\n",
    "def time_it(func):\n",
    "    def wrapper(*args, **kwargs):\n",
    "        start = time.time()\n",
    "        result = func(*args, **kwargs)\n",
    "        end = time.time()\n",
    "        print(func.__name__+\" took \"+str((end-start)*1000)+\" mil sec\")\n",
    "        return result\n",
    "    return wrapper"
   ]
  },
  {
   "cell_type": "code",
   "execution_count": 9,
   "id": "0d0f18e3-0b19-416a-8de3-0c6e3c11ce8c",
   "metadata": {},
   "outputs": [],
   "source": [
    "@time_it\n",
    "def linear_search(numbers_list, numbers_to_find):\n",
    "    for idx, element in enumerate(numbers_list):\n",
    "        if element == numbers_to_find:\n",
    "            return idx\n",
    "    return -1\n",
    "@time_it\n",
    "def binary_search(numbers_list, numbers_to_find):\n",
    "    left_idx = 0\n",
    "    right_idx = len(numbers_list)\n",
    "    \n",
    "    \n",
    "    while  left_idx <= right_idx:\n",
    "        mid_idx = (left_idx + right_idx) // 2\n",
    "        mid_num = numbers_list[mid_idx]\n",
    "        if number_to_find == mid_num:\n",
    "            return mid_idx\n",
    "        elif mid_num < number_to_find:\n",
    "            left_idx = mid_idx + 1\n",
    "        else:\n",
    "            right_idx = mid_idx -1\n",
    "    return -1\n",
    "@time_it\n",
    "def binary_search_recursive(numbers_list, number_to_find, left_idx, right_idx):\n",
    "    if right_idx < left_idx:\n",
    "        return -1\n",
    "    \n",
    "    mid_idx = (left_idx + right_idx) // 2\n",
    "    if mid_idx >= len(numbers_list) or mid_idx <0:\n",
    "        return -1\n",
    "    mid_num = numbers_list[mid_idx]\n",
    "    \n",
    "    if number_to_find == mid_num:\n",
    "        return mid_idx\n",
    "    elif mid_num < number_to_find:\n",
    "        left_idx = mid_idx + 1\n",
    "    else:\n",
    "        right_idx = mid_idx -1\n",
    "    return binary_search_recursive(numbers_list, number_to_find, left_idx, right_idx)\n",
    "\n",
    "def binary_search_ex(numbers_list, numbers_to_find):\n",
    "    idx = binary_search(numbers_list, numbers_to_find)\n",
    "    ans = [idx]\n",
    "    \n",
    "    i = idx-1\n",
    "    while i >= 0:\n",
    "        if numbers_list[i] == number_to_find:\n",
    "            ans.append(i)\n",
    "        else:\n",
    "            break\n",
    "        i -= 1\n",
    "        \n",
    "    i = idx+1\n",
    "    while i <= len(numbers_list):\n",
    "        if numbers_list[i] == number_to_find:\n",
    "            ans.append(i)\n",
    "        else:\n",
    "            break\n",
    "        i += 1\n",
    "    return sorted(ans)"
   ]
  },
  {
   "cell_type": "code",
   "execution_count": 3,
   "id": "fb951b1c-fc61-4ab3-ae6c-b044dede48aa",
   "metadata": {},
   "outputs": [
    {
     "name": "stdout",
     "output_type": "stream",
     "text": [
      "linear_search took 0.0 mil sec\n"
     ]
    },
    {
     "data": {
      "text/plain": [
       "6"
      ]
     },
     "execution_count": 3,
     "metadata": {},
     "output_type": "execute_result"
    }
   ],
   "source": [
    "numbers_list = [12, 15, 17, 19, 21, 24, 45, 67]\n",
    "number_to_find = 45\n",
    "linear_search(numbers_list, number_to_find)"
   ]
  },
  {
   "cell_type": "code",
   "execution_count": 4,
   "id": "19e2bd35-0829-4e05-ba8e-89b3ddfaf126",
   "metadata": {},
   "outputs": [
    {
     "name": "stdout",
     "output_type": "stream",
     "text": [
      "binary_search took 0.0 mil sec\n"
     ]
    },
    {
     "data": {
      "text/plain": [
       "6"
      ]
     },
     "execution_count": 4,
     "metadata": {},
     "output_type": "execute_result"
    }
   ],
   "source": [
    "binary_search(numbers_list, number_to_find)"
   ]
  },
  {
   "cell_type": "code",
   "execution_count": 5,
   "id": "2710a92f-4d18-4a38-b6ac-91662778da66",
   "metadata": {},
   "outputs": [
    {
     "name": "stdout",
     "output_type": "stream",
     "text": [
      "binary_search_recursive took 0.0 mil sec\n",
      "binary_search_recursive took 0.0 mil sec\n"
     ]
    },
    {
     "data": {
      "text/plain": [
       "6"
      ]
     },
     "execution_count": 5,
     "metadata": {},
     "output_type": "execute_result"
    }
   ],
   "source": [
    "binary_search_recursive(numbers_list, number_to_find, 0, len(numbers_list))"
   ]
  },
  {
   "cell_type": "code",
   "execution_count": 6,
   "id": "f3d12c9e-3f1b-4831-bb11-17b8d3c663d8",
   "metadata": {},
   "outputs": [
    {
     "name": "stdout",
     "output_type": "stream",
     "text": [
      "linear_search took 69.81277465820312 mil sec\n"
     ]
    },
    {
     "data": {
      "text/plain": [
       "1000000"
      ]
     },
     "execution_count": 6,
     "metadata": {},
     "output_type": "execute_result"
    }
   ],
   "source": [
    "numbers_list = [i for i in range(1000001)]\n",
    "number_to_find = 1000000\n",
    "linear_search(numbers_list, number_to_find)"
   ]
  },
  {
   "cell_type": "code",
   "execution_count": 7,
   "id": "ba28d833-0e50-4317-b9f8-946e66884465",
   "metadata": {},
   "outputs": [
    {
     "name": "stdout",
     "output_type": "stream",
     "text": [
      "binary_search took 0.0 mil sec\n"
     ]
    },
    {
     "data": {
      "text/plain": [
       "1000000"
      ]
     },
     "execution_count": 7,
     "metadata": {},
     "output_type": "execute_result"
    }
   ],
   "source": [
    "binary_search(numbers_list, number_to_find)"
   ]
  },
  {
   "cell_type": "code",
   "execution_count": 8,
   "id": "e1e55cd3-ab51-476b-8ae9-4bf70ec959cb",
   "metadata": {
    "scrolled": true,
    "tags": []
   },
   "outputs": [
    {
     "name": "stdout",
     "output_type": "stream",
     "text": [
      "binary_search_recursive took 0.0 mil sec\n",
      "binary_search_recursive took 0.0 mil sec\n",
      "binary_search_recursive took 0.0 mil sec\n",
      "binary_search_recursive took 0.0 mil sec\n",
      "binary_search_recursive took 0.0 mil sec\n",
      "binary_search_recursive took 0.0 mil sec\n",
      "binary_search_recursive took 0.0 mil sec\n",
      "binary_search_recursive took 0.0 mil sec\n",
      "binary_search_recursive took 0.0 mil sec\n",
      "binary_search_recursive took 0.0 mil sec\n",
      "binary_search_recursive took 0.0 mil sec\n",
      "binary_search_recursive took 0.0 mil sec\n",
      "binary_search_recursive took 0.0 mil sec\n",
      "binary_search_recursive took 0.0 mil sec\n",
      "binary_search_recursive took 0.0 mil sec\n",
      "binary_search_recursive took 0.0 mil sec\n",
      "binary_search_recursive took 0.0 mil sec\n",
      "binary_search_recursive took 0.0 mil sec\n",
      "binary_search_recursive took 0.0 mil sec\n"
     ]
    },
    {
     "data": {
      "text/plain": [
       "1000000"
      ]
     },
     "execution_count": 8,
     "metadata": {},
     "output_type": "execute_result"
    }
   ],
   "source": [
    "binary_search_recursive(numbers_list, number_to_find, 0, len(numbers_list))"
   ]
  },
  {
   "cell_type": "code",
   "execution_count": 10,
   "id": "2981a9b4-54ce-4dc0-ba9e-7d26b327e381",
   "metadata": {},
   "outputs": [
    {
     "name": "stdout",
     "output_type": "stream",
     "text": [
      "binary_search took 0.0 mil sec\n"
     ]
    },
    {
     "data": {
      "text/plain": [
       "[5, 6, 7]"
      ]
     },
     "execution_count": 10,
     "metadata": {},
     "output_type": "execute_result"
    }
   ],
   "source": [
    "numbers_list = [1,4,6,9,11,15,15,15,17,21,34,34,56]\n",
    "number_to_find = 15\n",
    "binary_search_ex(numbers_list, number_to_find)"
   ]
  },
  {
   "cell_type": "markdown",
   "id": "5a88e5b7-6471-4684-b4ac-267eb360591e",
   "metadata": {},
   "source": [
    "### [Bubble Sort](https://github.com/codebasics/data-structures-algorithms-python/blob/master/algorithms/2_BubbleSort/bubble_sort_exercise.md)"
   ]
  },
  {
   "cell_type": "code",
   "execution_count": 44,
   "id": "ac8cc51b-8864-4607-a1b1-3be0fc9c4b96",
   "metadata": {},
   "outputs": [],
   "source": [
    "def bubble_sort(elements, key=None):\n",
    "    size = len(elements)\n",
    "    \n",
    "    for j in range(size-1):\n",
    "        swapped = False    # 只要有一輪全部沒交換，代表已排好，可 break\n",
    "        for i in range(size-1-j):\n",
    "            if key == None:\n",
    "                a = elements[i]\n",
    "                b = elements[i+1]\n",
    "            else:\n",
    "                a = elements[i][key]\n",
    "                b = elements[i+1][key]\n",
    "                \n",
    "            if a > b:\n",
    "                elements[i], elements[i+1] = elements[i+1], elements[i]\n",
    "                swapped = True\n",
    "        \n",
    "        if not swapped:\n",
    "            break\n",
    "    return elements"
   ]
  },
  {
   "cell_type": "code",
   "execution_count": 45,
   "id": "702802c6-a8c0-44b0-88eb-be47a572e029",
   "metadata": {},
   "outputs": [
    {
     "data": {
      "text/plain": [
       "[2, 7, 9, 11, 15, 28, 29]"
      ]
     },
     "execution_count": 45,
     "metadata": {},
     "output_type": "execute_result"
    }
   ],
   "source": [
    "# elements = [4,2,1]\n",
    "elements = [11, 9, 29, 7, 2, 15, 28]\n",
    "bubble_sort(elements)"
   ]
  },
  {
   "cell_type": "code",
   "execution_count": 30,
   "id": "018f060e-623c-441a-b179-b7be3cb3f0eb",
   "metadata": {},
   "outputs": [
    {
     "data": {
      "text/plain": [
       "[{'name': 'aamir', 'transaction_amount': 800, 'device': 'iphone-8'},\n",
       " {'name': 'dhaval', 'transaction_amount': 400, 'device': 'google pixel'},\n",
       " {'name': 'kathy', 'transaction_amount': 200, 'device': 'vivo'},\n",
       " {'name': 'mona', 'transaction_amount': 1000, 'device': 'iphone-10'}]"
      ]
     },
     "execution_count": 30,
     "metadata": {},
     "output_type": "execute_result"
    }
   ],
   "source": [
    "elements = [\n",
    "        { 'name': 'mona',   'transaction_amount': 1000, 'device': 'iphone-10'},\n",
    "        { 'name': 'dhaval', 'transaction_amount': 400,  'device': 'google pixel'},\n",
    "        { 'name': 'kathy',  'transaction_amount': 200,  'device': 'vivo'},\n",
    "        { 'name': 'aamir',  'transaction_amount': 800,  'device': 'iphone-8'},\n",
    "    ]\n",
    "bubble_sort(elements, key='name')"
   ]
  },
  {
   "cell_type": "markdown",
   "id": "6131c275-6867-498c-aa3c-193235f150bb",
   "metadata": {},
   "source": [
    "### [Quick Sort](https://www.youtube.com/watch?v=5iSZ7mh_RAk)"
   ]
  },
  {
   "cell_type": "code",
   "execution_count": 90,
   "id": "5dd971f2-45cc-4cf5-baf3-53b7bcb77830",
   "metadata": {},
   "outputs": [],
   "source": [
    "def swap(a, b, arr):\n",
    "    if a!=b:\n",
    "        arr[a], arr[b] = arr[b], arr[a]\n",
    "#     or\n",
    "#     tmp = arr[a]\n",
    "#     arr[a] = arr[b]\n",
    "#     arr[b] = tmp\n",
    "\n",
    "def partition(elements, start, end):     # 把 pivot 送到正確的地方，產生 partition\n",
    "    pivot_idx = start\n",
    "    pivot = elements[pivot_idx]\n",
    "    \n",
    "    while start < end :\n",
    "        while start < len(elements) and elements[start] <= pivot:  # 讓 start 找到比 pivot 大的數\n",
    "            start += 1\n",
    "        while elements[end] > pivot:     # 讓 end 找到比 pivot 小的數\n",
    "            end -= 1\n",
    "        if start < end:\n",
    "            swap(start, end, elements)   # 比 pivot 小的數到左邊\n",
    "    swap(pivot_idx, end, elements)     # 跟比 pivot 小的數交換\n",
    "    \n",
    "        \n",
    "    return end # end 為這一輪 pivot 所在最後位置(當右 partition下一輪 start，左 end)\n",
    "\n",
    "def quick_sort(elements, start, end):    # 決定 pivot\n",
    "    if start < end:\n",
    "        pi = partition(elements, start, end)\n",
    "        quick_sort(elements, start, pi - 1)  # left partition\n",
    "        quick_sort(elements, pi + 1, end)    # right partition\n",
    "        \n",
    "def lomuto_partition(elements, start, end):\n",
    "    pivot = elements[end]\n",
    "    p = start\n",
    "    for i in range(start, end):\n",
    "        if elements[i]< pivot:\n",
    "            swap(i, p, elements)\n",
    "            p += 1\n",
    "    swap(p, end, elements)\n",
    "    \n",
    "    return p\n",
    "            \n",
    "        \n",
    "def lomuto_quick_sort(elements, start, end):\n",
    "    if len(elements)== 1:\n",
    "        return\n",
    "    if start < end:\n",
    "        pi = lomuto_partition(elements, start, end)\n",
    "        lomuto_quick_sort(elements, start, pi - 1)  # left partition\n",
    "        lomuto_quick_sort(elements, pi + 1, end)    # right partition"
   ]
  },
  {
   "cell_type": "code",
   "execution_count": 89,
   "id": "5deea505-dc84-49fd-8205-97f1dbd22d83",
   "metadata": {},
   "outputs": [
    {
     "name": "stdout",
     "output_type": "stream",
     "text": [
      "[2, 7, 9, 11, 15, 28, 29]\n"
     ]
    }
   ],
   "source": [
    "elements = [11, 9, 29, 7, 2, 15, 28]\n",
    "quick_sort(elements,0,len(elements)-1)\n",
    "print(elements)"
   ]
  },
  {
   "cell_type": "code",
   "execution_count": 91,
   "id": "d5e35159-10dc-4ef1-ab6c-f758475dae3f",
   "metadata": {},
   "outputs": [
    {
     "name": "stdout",
     "output_type": "stream",
     "text": [
      "sorted array: [2, 7, 9, 11, 15, 28, 29]\n",
      "sorted array: [3, 7, 9, 11]\n",
      "sorted array: [10, 21, 22, 25]\n",
      "sorted array: [15, 28, 29]\n",
      "sorted array: []\n",
      "sorted array: [6]\n"
     ]
    }
   ],
   "source": [
    "tests = [\n",
    "        [11,9,29,7,2,15,28],\n",
    "        [3, 7, 9, 11],\n",
    "        [25, 22, 21, 10],\n",
    "        [29, 15, 28],\n",
    "        [],\n",
    "        [6]\n",
    "    ]\n",
    "for elements in tests:\n",
    "    quick_sort(elements, 0, len(elements)-1)\n",
    "    print(f'sorted array: {elements}')"
   ]
  },
  {
   "cell_type": "code",
   "execution_count": 92,
   "id": "6d62e373-1068-4507-8302-6405ddb580cc",
   "metadata": {},
   "outputs": [
    {
     "name": "stdout",
     "output_type": "stream",
     "text": [
      "[2, 7, 9, 11, 15, 28, 29]\n"
     ]
    }
   ],
   "source": [
    "elements = [11, 9, 29, 7, 2, 15, 28]\n",
    "lomuto_quick_sort(elements, 0, len(elements)-1)\n",
    "print(elements)"
   ]
  },
  {
   "cell_type": "code",
   "execution_count": 93,
   "id": "a436a09b-8f83-4739-8f42-5ec1bce406a1",
   "metadata": {},
   "outputs": [
    {
     "name": "stdout",
     "output_type": "stream",
     "text": [
      "sorted array: [2, 7, 9, 11, 15, 28, 29]\n",
      "sorted array: [3, 7, 9, 11]\n",
      "sorted array: [10, 21, 22, 25]\n",
      "sorted array: [15, 28, 29]\n",
      "sorted array: []\n",
      "sorted array: [6]\n"
     ]
    }
   ],
   "source": [
    "tests = [\n",
    "        [11,9,29,7,2,15,28],\n",
    "        [3, 7, 9, 11],\n",
    "        [25, 22, 21, 10],\n",
    "        [29, 15, 28],\n",
    "        [],\n",
    "        [6]\n",
    "    ]\n",
    "for elements in tests:\n",
    "    lomuto_quick_sort(elements, 0, len(elements)-1)\n",
    "    print(f'sorted array: {elements}')"
   ]
  },
  {
   "cell_type": "markdown",
   "id": "8bd329ef-7587-4a1a-a7aa-0633181b22b3",
   "metadata": {},
   "source": [
    "### [Insertion Sort](https://www.youtube.com/watch?v=K0zTIF3rm9s)\n",
    "issues : when small elements are towards the end it takes many comparisons and swaps </p>\n",
    "sol : shell sort"
   ]
  },
  {
   "cell_type": "code",
   "execution_count": 129,
   "id": "ea3bbc6c-edfb-4f77-8a28-c502946d7f8d",
   "metadata": {},
   "outputs": [],
   "source": [
    "def insertion_sort(elements):\n",
    "    for i in range(1, len(elements)):\n",
    "        anchor = elements[i]\n",
    "        j = i - 1\n",
    "        for j in range(j,-1,-1):\n",
    "            if anchor < elements[j]:\n",
    "                elements[j+1], elements[j] = elements[j], elements[j+1]\n",
    "            else:\n",
    "                continue\n",
    "#         老師作法\n",
    "#         anchor = elements[i]\n",
    "#         j = i-1\n",
    "#         while j>=0 and anchor < elements[j]:\n",
    "#             elements[j+1] = elements[j]\n",
    "#             j -= 1\n",
    "#         elements[j+1] = anchor\n",
    "#         print(elements)\n",
    "        "
   ]
  },
  {
   "cell_type": "code",
   "execution_count": 130,
   "id": "5168aef1-081a-4570-b3b8-5e91ec6bf10e",
   "metadata": {},
   "outputs": [
    {
     "name": "stdout",
     "output_type": "stream",
     "text": [
      "[2, 7, 9, 11, 15, 28, 29]\n"
     ]
    }
   ],
   "source": [
    "elements = [11,9,29,7,2,15,28]\n",
    "insertion_sort(elements)\n",
    "print(elements)"
   ]
  },
  {
   "cell_type": "code",
   "execution_count": 124,
   "id": "2ccce8c8-b713-43b6-a2ba-890b8afdf8b7",
   "metadata": {},
   "outputs": [
    {
     "name": "stdout",
     "output_type": "stream",
     "text": [
      "sorted array: [2, 7, 9, 11, 15, 28, 29]\n",
      "sorted array: [3, 7, 9, 11]\n",
      "sorted array: [10, 21, 22, 25]\n",
      "sorted array: [15, 28, 29]\n",
      "sorted array: []\n",
      "sorted array: [6]\n"
     ]
    }
   ],
   "source": [
    "for elements in tests:\n",
    "    insertion_sort(elements)\n",
    "    print(f'sorted array: {elements}')"
   ]
  },
  {
   "cell_type": "code",
   "execution_count": 131,
   "id": "ef34c769-f79f-4baa-98a1-c129bb188272",
   "metadata": {
    "scrolled": true,
    "tags": []
   },
   "outputs": [
    {
     "name": "stdin",
     "output_type": "stream",
     "text": [
      " 2\n"
     ]
    },
    {
     "name": "stdout",
     "output_type": "stream",
     "text": [
      "median :  2\n"
     ]
    },
    {
     "name": "stdin",
     "output_type": "stream",
     "text": [
      " 1\n"
     ]
    },
    {
     "name": "stdout",
     "output_type": "stream",
     "text": [
      "median :  1.5\n"
     ]
    },
    {
     "name": "stdin",
     "output_type": "stream",
     "text": [
      " 5\n"
     ]
    },
    {
     "name": "stdout",
     "output_type": "stream",
     "text": [
      "median :  2\n"
     ]
    },
    {
     "name": "stdin",
     "output_type": "stream",
     "text": [
      " 7\n"
     ]
    },
    {
     "name": "stdout",
     "output_type": "stream",
     "text": [
      "median :  3.5\n"
     ]
    },
    {
     "name": "stdin",
     "output_type": "stream",
     "text": [
      " 2\n"
     ]
    },
    {
     "name": "stdout",
     "output_type": "stream",
     "text": [
      "median :  2\n"
     ]
    },
    {
     "name": "stdin",
     "output_type": "stream",
     "text": [
      " 0\n"
     ]
    },
    {
     "name": "stdout",
     "output_type": "stream",
     "text": [
      "median :  2.0\n"
     ]
    },
    {
     "name": "stdin",
     "output_type": "stream",
     "text": [
      " 5\n"
     ]
    },
    {
     "name": "stdout",
     "output_type": "stream",
     "text": [
      "median :  2\n"
     ]
    },
    {
     "name": "stdin",
     "output_type": "stream",
     "text": [
      " False\n"
     ]
    },
    {
     "ename": "ValueError",
     "evalue": "invalid literal for int() with base 10: 'False'",
     "output_type": "error",
     "traceback": [
      "\u001b[1;31m---------------------------------------------------------------------------\u001b[0m",
      "\u001b[1;31mValueError\u001b[0m                                Traceback (most recent call last)",
      "\u001b[1;32m<ipython-input-131-1586c9521c6a>\u001b[0m in \u001b[0;36m<module>\u001b[1;34m\u001b[0m\n\u001b[0;32m      2\u001b[0m \u001b[0mele\u001b[0m \u001b[1;33m=\u001b[0m \u001b[1;33m[\u001b[0m\u001b[1;33m]\u001b[0m\u001b[1;33m\u001b[0m\u001b[1;33m\u001b[0m\u001b[0m\n\u001b[0;32m      3\u001b[0m \u001b[1;32mwhile\u001b[0m \u001b[1;32mTrue\u001b[0m\u001b[1;33m:\u001b[0m\u001b[1;33m\u001b[0m\u001b[1;33m\u001b[0m\u001b[0m\n\u001b[1;32m----> 4\u001b[1;33m     \u001b[0ma\u001b[0m \u001b[1;33m=\u001b[0m \u001b[0mint\u001b[0m\u001b[1;33m(\u001b[0m\u001b[0minput\u001b[0m\u001b[1;33m(\u001b[0m\u001b[1;33m)\u001b[0m\u001b[1;33m)\u001b[0m\u001b[1;33m\u001b[0m\u001b[1;33m\u001b[0m\u001b[0m\n\u001b[0m\u001b[0;32m      5\u001b[0m     \u001b[0mele\u001b[0m\u001b[1;33m.\u001b[0m\u001b[0mappend\u001b[0m\u001b[1;33m(\u001b[0m\u001b[0ma\u001b[0m\u001b[1;33m)\u001b[0m\u001b[1;33m\u001b[0m\u001b[1;33m\u001b[0m\u001b[0m\n\u001b[0;32m      6\u001b[0m     \u001b[0minsertion_sort\u001b[0m\u001b[1;33m(\u001b[0m\u001b[0mele\u001b[0m\u001b[1;33m)\u001b[0m\u001b[1;33m\u001b[0m\u001b[1;33m\u001b[0m\u001b[0m\n",
      "\u001b[1;31mValueError\u001b[0m: invalid literal for int() with base 10: 'False'"
     ]
    }
   ],
   "source": [
    "## [2, 1, 5, 7, 2, 0, 5]\n",
    "ele = []\n",
    "while True:\n",
    "    a = int(input())\n",
    "    ele.append(a)\n",
    "    insertion_sort(ele)\n",
    "    if len(ele)%2 == 1:\n",
    "        print('median : ',ele[len(ele)//2])\n",
    "    else:\n",
    "        print('median : ',(ele[len(ele)//2-1]+ele[len(ele)//2])/2)"
   ]
  },
  {
   "cell_type": "markdown",
   "id": "f9ef1d27-156b-4b82-b791-5dab69b6ac51",
   "metadata": {},
   "source": [
    "### [Merge Sort](https://www.youtube.com/watch?v=nCNfu_zNhyI)"
   ]
  },
  {
   "cell_type": "code",
   "execution_count": 151,
   "id": "36b76467-ba4b-46dc-840f-23bdfe310c39",
   "metadata": {},
   "outputs": [],
   "source": [
    "# 會多耗費一個空間 sorted_list\n",
    "def merge_sorted_lists(a,b):\n",
    "    sorted_list = []\n",
    "    len_a = len(a)\n",
    "    len_b = len(b)\n",
    "    i=j=0\n",
    "    \n",
    "    while i < len_a and j < len_b:\n",
    "        if a[i] <= b[j]:\n",
    "            sorted_list.append(a[i])\n",
    "            i += 1\n",
    "        else:\n",
    "            sorted_list.append(b[j])\n",
    "            j += 1\n",
    "            \n",
    "    while i < len_a:\n",
    "        sorted_list.append(a[i])\n",
    "        i += 1\n",
    "    while j < len_b:\n",
    "        sorted_list.append(b[j])\n",
    "        j += 1\n",
    "    return sorted_list\n",
    "\n",
    "def merge_sort(arr):    # 將 arr 從 len = 1 開始用上面函式組起來\n",
    "    if len(arr) <= 1:\n",
    "        return arr\n",
    "    mid = len(arr)//2\n",
    "    left = arr[:mid]\n",
    "    right = arr[mid:]\n",
    "    \n",
    "    left = merge_sort(left)\n",
    "    right = merge_sort(right)\n",
    "    \n",
    "    return merge_sorted_lists(left, right)"
   ]
  },
  {
   "cell_type": "code",
   "execution_count": 152,
   "id": "2edcdf7e-e0ee-4e05-8a98-f708a053ccef",
   "metadata": {},
   "outputs": [
    {
     "name": "stdout",
     "output_type": "stream",
     "text": [
      "[5, 7, 8, 9, 12, 45, 51, 56]\n"
     ]
    }
   ],
   "source": [
    "a = [5,8,12,56]\n",
    "b = [7,9,45,51]\n",
    "print(merge_sorted_lists(a,b))"
   ]
  },
  {
   "cell_type": "code",
   "execution_count": 156,
   "id": "0a8cfbaa-862a-461f-9803-dc11df1fa430",
   "metadata": {},
   "outputs": [
    {
     "name": "stdout",
     "output_type": "stream",
     "text": [
      "[3, 7, 8, 10, 15, 23, 29, 98]\n"
     ]
    }
   ],
   "source": [
    "arr = [10,3,15,7,8,23,98,29]\n",
    "print(merge_sort(arr))"
   ]
  },
  {
   "cell_type": "code",
   "execution_count": 180,
   "id": "af1817a8-83dc-47dc-af5c-c991d3fb51eb",
   "metadata": {},
   "outputs": [],
   "source": [
    "def merge_sorted_lists(a,b,arr,key,descending):\n",
    "    len_a = len(a)\n",
    "    len_b = len(b)\n",
    "    i=j=k=0\n",
    "    \n",
    "    while i < len_a and j < len_b:\n",
    "        if descending == True:\n",
    "            if a[i][key] <= b[j][key]:\n",
    "                arr[k] = b[j]\n",
    "                j += 1\n",
    "            else:\n",
    "                arr[k] = a[i]\n",
    "                i += 1\n",
    "        else:\n",
    "            if a[i][key] <= b[j][key]:\n",
    "                arr[k] = a[i]\n",
    "                i += 1\n",
    "            else:\n",
    "                arr[k] = b[j]\n",
    "                j += 1\n",
    "        k += 1\n",
    "        \n",
    "            \n",
    "    while i < len_a:\n",
    "        arr[k] = a[i]\n",
    "        i += 1\n",
    "        k += 1\n",
    "    while j < len_b:\n",
    "        arr[k] = b[j]\n",
    "        j += 1\n",
    "        k += 1\n",
    "\n",
    "def merge_sort(arr, key, descending):    # 將 arr 從 len = 1 開始用上面函式組起來\n",
    "    if len(arr) <= 1:\n",
    "        return arr\n",
    "    mid = len(arr)//2\n",
    "    left = arr[:mid]\n",
    "    right = arr[mid:]\n",
    "    \n",
    "    merge_sort(left, key, descending)\n",
    "    merge_sort(right, key, descending)\n",
    "    \n",
    "    merge_sorted_lists(left, right, arr, key, descending) # 拿原本 array的空間來用新的 sort"
   ]
  },
  {
   "cell_type": "code",
   "execution_count": 165,
   "id": "7bac99bc-e08f-42a7-92b8-a0d03a01f663",
   "metadata": {},
   "outputs": [
    {
     "name": "stdout",
     "output_type": "stream",
     "text": [
      "[3, 7, 8, 10, 15, 23, 29, 98]\n"
     ]
    }
   ],
   "source": [
    "arr = [10,3,15,7,8,23,98,29]\n",
    "merge_sort(arr)\n",
    "print(arr)"
   ]
  },
  {
   "cell_type": "code",
   "execution_count": 166,
   "id": "48b9f0e2-d255-4e4f-adca-942341d990a2",
   "metadata": {},
   "outputs": [
    {
     "name": "stdout",
     "output_type": "stream",
     "text": [
      "sorted array: [2, 7, 9, 11, 15, 28, 29]\n",
      "sorted array: [3, 7, 9, 11]\n",
      "sorted array: [10, 21, 22, 25]\n",
      "sorted array: [15, 28, 29]\n",
      "sorted array: []\n",
      "sorted array: [6]\n"
     ]
    }
   ],
   "source": [
    "for elements in tests:\n",
    "    merge_sort(elements)\n",
    "    print(f'sorted array: {elements}')"
   ]
  },
  {
   "cell_type": "code",
   "execution_count": 181,
   "id": "f2d38cbc-720d-45a9-918b-f6e7cfe9528f",
   "metadata": {},
   "outputs": [
    {
     "name": "stdout",
     "output_type": "stream",
     "text": [
      "[{'name': 'vedanth', 'age': 17, 'time_hours': 1}, {'name': 'chinmay', 'age': 24, 'time_hours': 1.5}, {'name': 'vignesh', 'age': 21, 'time_hours': 2.5}, {'name': 'rajab', 'age': 12, 'time_hours': 3}]\n"
     ]
    }
   ],
   "source": [
    "elements = [\n",
    "        { 'name': 'vedanth',   'age': 17, 'time_hours': 1},\n",
    "        { 'name': 'rajab', 'age': 12,  'time_hours': 3},\n",
    "        { 'name': 'vignesh',  'age': 21,  'time_hours': 2.5},\n",
    "        { 'name': 'chinmay',  'age': 24,  'time_hours': 1.5},\n",
    "    ]\n",
    "merge_sort(elements, key='time_hours', descending=False)\n",
    "print(elements)"
   ]
  },
  {
   "cell_type": "code",
   "execution_count": 182,
   "id": "89fb6560-c552-4348-96ae-745cda1b90fa",
   "metadata": {},
   "outputs": [
    {
     "name": "stdout",
     "output_type": "stream",
     "text": [
      "[{'name': 'rajab', 'age': 12, 'time_hours': 3}, {'name': 'vignesh', 'age': 21, 'time_hours': 2.5}, {'name': 'chinmay', 'age': 24, 'time_hours': 1.5}, {'name': 'vedanth', 'age': 17, 'time_hours': 1}]\n"
     ]
    }
   ],
   "source": [
    "merge_sort(elements, key='time_hours', descending=True)\n",
    "print(elements)"
   ]
  },
  {
   "cell_type": "markdown",
   "id": "4fff1503-6437-47ff-b111-751754a7afac",
   "metadata": {},
   "source": [
    "### [Shell Sort](https://www.youtube.com/watch?v=VxNr9Vudp4Y)\n",
    "1. start with gap = n/2 and sort sub arrays\n",
    "2. keep reducing gap by n/2 in and keep on sorting subarrays\n",
    "3. last iteration should have gap = 1. at this point it is same as insertion sort"
   ]
  },
  {
   "cell_type": "code",
   "execution_count": 233,
   "id": "5b8f35d2-0110-4be8-aa41-e8ec70f935ce",
   "metadata": {},
   "outputs": [],
   "source": [
    "def shell_sort(arr):\n",
    "    size = len(arr)\n",
    "    gap = size//2\n",
    "    \n",
    "    while gap > 0:\n",
    "        for i in range(gap, size):\n",
    "            anchor = arr[i]\n",
    "            j = i\n",
    "            while j >= gap and arr[j-gap] > anchor:\n",
    "                arr[j] = arr[j-gap]\n",
    "                j -= gap\n",
    "            arr[j] = anchor\n",
    "        gap = gap//2\n",
    "        \n",
    "def shell_sort_del_same(arr):\n",
    "    size = len(arr)\n",
    "    gap = size//2\n",
    "    div = 2\n",
    "    while gap > 0:\n",
    "        del_idx = []\n",
    "        for i in range(gap, size):\n",
    "            anchor = arr[i]\n",
    "            j = i\n",
    "            while j >= gap and arr[j-gap] >= anchor:\n",
    "                if arr[j-gap] == anchor:\n",
    "                    del_idx.append(j)\n",
    "                arr[j] = arr[j-gap]\n",
    "                j -= gap\n",
    "            arr[j] = anchor\n",
    "        if del_idx:\n",
    "            for i in sorted(list(set(del_idx)))[-1::-1]:\n",
    "                del arr[i]\n",
    "        size = len(arr)\n",
    "        div *= 2\n",
    "        gap = size//div"
   ]
  },
  {
   "cell_type": "code",
   "execution_count": 211,
   "id": "4462f59f-f5f3-499f-be9b-78ceb7a3d02a",
   "metadata": {},
   "outputs": [
    {
     "name": "stdout",
     "output_type": "stream",
     "text": [
      "[4, 9, 11, 17, 21, 25, 29, 32, 38]\n"
     ]
    }
   ],
   "source": [
    "elements = [21,38,29,17,4,25,11,32,9]\n",
    "shell_sort(elements)\n",
    "print(elements)"
   ]
  },
  {
   "cell_type": "code",
   "execution_count": 234,
   "id": "b6687a47-7bfc-476b-ac3c-26ec19ea1766",
   "metadata": {},
   "outputs": [
    {
     "name": "stdout",
     "output_type": "stream",
     "text": [
      "[0, 1, 2, 3, 5, 7, 8, 9]\n"
     ]
    }
   ],
   "source": [
    "elements = [2, 1, 5, 7, 2, 0, 5, 1, 2, 9, 5, 8, 3]\n",
    "shell_sort_del_same(elements)\n",
    "print(elements)"
   ]
  },
  {
   "cell_type": "markdown",
   "id": "2417cccf-2eee-489a-99bd-1abf6d4f59ce",
   "metadata": {},
   "source": [
    "### [Selection Sort](https://www.youtube.com/watch?v=hhkLdjIimlw)"
   ]
  },
  {
   "cell_type": "code",
   "execution_count": 242,
   "id": "8dc45b3e-c723-4185-a8ea-129d0515c4b3",
   "metadata": {},
   "outputs": [],
   "source": [
    "def selection_sort(arr):\n",
    "    for i in range(len(arr)):\n",
    "        min_idx = i\n",
    "        for j in range(min_idx+1, len(arr)):\n",
    "            if arr[j] < arr[min_idx]:\n",
    "                min_idx = j\n",
    "        if i != min_idx:\n",
    "            arr[i], arr[min_idx] = arr[min_idx], arr[i]\n",
    "            \n",
    "def selection_sort_with_key(arr, key):\n",
    "    for k in key[-1::-1]:\n",
    "        for i in range(len(arr)):\n",
    "            min_idx = i\n",
    "            for j in range(min_idx+1, len(arr)):\n",
    "                if arr[j][k] < arr[min_idx][k]:\n",
    "                    min_idx = j\n",
    "            if i != min_idx:\n",
    "                arr[i], arr[min_idx] = arr[min_idx], arr[i]"
   ]
  },
  {
   "cell_type": "code",
   "execution_count": 236,
   "id": "f144ec3a-4101-4d6d-be85-375a33cf333f",
   "metadata": {},
   "outputs": [
    {
     "name": "stdout",
     "output_type": "stream",
     "text": [
      "[8, 12, 15, 23, 27, 53, 61, 78]\n"
     ]
    }
   ],
   "source": [
    "elements = [78,12,15,8,61,53,23,27]\n",
    "selection_sort(elements)\n",
    "print(elements)"
   ]
  },
  {
   "cell_type": "code",
   "execution_count": 243,
   "id": "dc14290f-f9fc-4713-9f00-13b4251a26e0",
   "metadata": {},
   "outputs": [
    {
     "name": "stdout",
     "output_type": "stream",
     "text": [
      "[{'First Name': 'Aahana', 'Last Name': 'Arora'}, {'First Name': 'Armaan', 'Last Name': 'Dadra'}, {'First Name': 'Armaan', 'Last Name': 'Kumar'}, {'First Name': 'Ingrid', 'Last Name': 'Galore'}, {'First Name': 'Ingrid', 'Last Name': 'Maverick'}, {'First Name': 'Jade', 'Last Name': 'Canary'}, {'First Name': 'Jaya', 'Last Name': 'Seth'}, {'First Name': 'Jaya', 'Last Name': 'Sharma'}, {'First Name': 'Karan', 'Last Name': 'Kumar'}, {'First Name': 'Kiran', 'Last Name': 'Kamla'}, {'First Name': 'Raj', 'Last Name': 'Sharma'}, {'First Name': 'Raj', 'Last Name': 'Nayyar'}, {'First Name': 'Raj', 'Last Name': 'Thakur'}, {'First Name': 'Suraj', 'Last Name': 'Sharma'}]\n"
     ]
    }
   ],
   "source": [
    "elements = [\n",
    "    {'First Name': 'Raj', 'Last Name': 'Nayyar'},\n",
    "    {'First Name': 'Suraj', 'Last Name': 'Sharma'},\n",
    "    {'First Name': 'Karan', 'Last Name': 'Kumar'},\n",
    "    {'First Name': 'Jade', 'Last Name': 'Canary'},\n",
    "    {'First Name': 'Raj', 'Last Name': 'Thakur'},\n",
    "    {'First Name': 'Raj', 'Last Name': 'Sharma'},\n",
    "    {'First Name': 'Kiran', 'Last Name': 'Kamla'},\n",
    "    {'First Name': 'Armaan', 'Last Name': 'Kumar'},\n",
    "    {'First Name': 'Jaya', 'Last Name': 'Sharma'},\n",
    "    {'First Name': 'Ingrid', 'Last Name': 'Galore'},\n",
    "    {'First Name': 'Jaya', 'Last Name': 'Seth'},\n",
    "    {'First Name': 'Armaan', 'Last Name': 'Dadra'},\n",
    "    {'First Name': 'Ingrid', 'Last Name': 'Maverick'},\n",
    "    {'First Name': 'Aahana', 'Last Name': 'Arora'}\n",
    "]\n",
    "selection_sort_with_key(elements, key=['First Name', 'Last Name'])\n",
    "print(elements)"
   ]
  }
 ],
 "metadata": {
  "kernelspec": {
   "display_name": "Python 3",
   "language": "python",
   "name": "python3"
  },
  "language_info": {
   "codemirror_mode": {
    "name": "ipython",
    "version": 3
   },
   "file_extension": ".py",
   "mimetype": "text/x-python",
   "name": "python",
   "nbconvert_exporter": "python",
   "pygments_lexer": "ipython3",
   "version": "3.8.8"
  }
 },
 "nbformat": 4,
 "nbformat_minor": 5
}
